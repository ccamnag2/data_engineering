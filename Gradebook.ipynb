{
 "cells": [
  {
   "cell_type": "code",
   "execution_count": 91,
   "id": "2cf29666-6cf2-4d59-a787-2ac8097194fe",
   "metadata": {},
   "outputs": [],
   "source": [
    "subjects = [\"physics\",\"calculus\",\"poetry\",\"history\"]"
   ]
  },
  {
   "cell_type": "code",
   "execution_count": 93,
   "id": "91db5fbb-31d6-45c3-925c-696b3f93fe43",
   "metadata": {},
   "outputs": [],
   "source": [
    "grades = [98,97,85,88]"
   ]
  },
  {
   "cell_type": "code",
   "execution_count": 95,
   "id": "3fcb7bb2-3029-4d96-b696-2ea2498f468b",
   "metadata": {},
   "outputs": [],
   "source": [
    "gradebook = [\n",
    "    [subjects[0], grades[0]],\n",
    "    [subjects[1], grades[1]],\n",
    "    [subjects[2], grades[2]],\n",
    "    [subjects[3], grades[3]]\n",
    "]"
   ]
  },
  {
   "cell_type": "code",
   "execution_count": 97,
   "id": "dc00ce36-e91b-4399-8d8b-ca4d9e8b9ce5",
   "metadata": {},
   "outputs": [],
   "source": [
    "gradebook.append([\"computer science\", 100])"
   ]
  },
  {
   "cell_type": "code",
   "execution_count": 99,
   "id": "54fc4a12-6c08-4d1a-b3e9-b6f27902f72c",
   "metadata": {},
   "outputs": [],
   "source": [
    "gradebook.append([\"visual arts\", 93])"
   ]
  },
  {
   "cell_type": "code",
   "execution_count": 101,
   "id": "f6600aeb-d916-4ee8-908e-724ae5b1216a",
   "metadata": {},
   "outputs": [],
   "source": [
    "gradebook[5][1] += 5"
   ]
  },
  {
   "cell_type": "code",
   "execution_count": 103,
   "id": "df0587e2-56e3-4906-af0f-7047543c8c42",
   "metadata": {},
   "outputs": [
    {
     "data": {
      "text/plain": [
       "[['physics', 98],\n",
       " ['calculus', 97],\n",
       " ['poetry', 85],\n",
       " ['history', 88],\n",
       " ['computer science', 100],\n",
       " ['visual arts', 98]]"
      ]
     },
     "execution_count": 103,
     "metadata": {},
     "output_type": "execute_result"
    }
   ],
   "source": [
    "gradebook"
   ]
  },
  {
   "cell_type": "code",
   "execution_count": 105,
   "id": "f324c1e7-91f3-4e56-b0c7-fa4ed68da62a",
   "metadata": {},
   "outputs": [],
   "source": [
    "gradebook.remove(['poetry',85])"
   ]
  },
  {
   "cell_type": "code",
   "execution_count": 107,
   "id": "b2317f2a-e6ba-48fd-a25f-585b7229c127",
   "metadata": {},
   "outputs": [],
   "source": [
    "gradebook.append([\"poetry\", \"Pass\"])"
   ]
  },
  {
   "cell_type": "code",
   "execution_count": 109,
   "id": "d478e579-f538-471f-88d3-a944f3d35a4c",
   "metadata": {},
   "outputs": [
    {
     "data": {
      "text/plain": [
       "[['physics', 98],\n",
       " ['calculus', 97],\n",
       " ['history', 88],\n",
       " ['computer science', 100],\n",
       " ['visual arts', 98],\n",
       " ['poetry', 'Pass']]"
      ]
     },
     "execution_count": 109,
     "metadata": {},
     "output_type": "execute_result"
    }
   ],
   "source": [
    "gradebook"
   ]
  },
  {
   "cell_type": "code",
   "execution_count": 111,
   "id": "4b0c0a0b-65f3-4ae0-ae7a-1acdbf8cebc7",
   "metadata": {},
   "outputs": [],
   "source": [
    "last_semester_gradebook =[[\"politics\", 80], [\"latin\", 96], [\"dance\", 97], [\"architecture\", 65]]"
   ]
  },
  {
   "cell_type": "code",
   "execution_count": null,
   "id": "377502de-6a43-4a04-a4ce-6390486a194f",
   "metadata": {},
   "outputs": [],
   "source": [
    "full_gradebook = last_semester_gradebook +  gradebook"
   ]
  }
 ],
 "metadata": {
  "kernelspec": {
   "display_name": "Python 3 (ipykernel)",
   "language": "python",
   "name": "python3"
  },
  "language_info": {
   "codemirror_mode": {
    "name": "ipython",
    "version": 3
   },
   "file_extension": ".py",
   "mimetype": "text/x-python",
   "name": "python",
   "nbconvert_exporter": "python",
   "pygments_lexer": "ipython3",
   "version": "3.12.4"
  }
 },
 "nbformat": 4,
 "nbformat_minor": 5
}
