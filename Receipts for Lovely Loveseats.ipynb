{
 "cells": [
  {
   "cell_type": "code",
   "execution_count": 1,
   "id": "a6167939-b0fc-4c33-97cc-3252a46174ed",
   "metadata": {},
   "outputs": [],
   "source": [
    "lovely_loveseat_description = \"Lovely Loveseat. Tufted polyester blend on wood. 32 inches high x 40 inches wide x 30 inches deep. Red or white.\""
   ]
  },
  {
   "cell_type": "code",
   "execution_count": 2,
   "id": "2e4f1e3f-b717-41c8-80c3-66eabff80363",
   "metadata": {},
   "outputs": [],
   "source": [
    "lovely_loveseat_price = 254.00"
   ]
  },
  {
   "cell_type": "code",
   "execution_count": 3,
   "id": "30af5aba-a5a9-428f-83b1-112b2eb58e32",
   "metadata": {},
   "outputs": [],
   "source": [
    "stylish_settee_description = \"Stylish Settee. Faux leather on birch. 29.50 inches high x 54.75 inches wide x 28 inches deep. Black.\""
   ]
  },
  {
   "cell_type": "code",
   "execution_count": 4,
   "id": "12433734-5dbf-4ac5-b9ab-50a4eb5d6fcd",
   "metadata": {},
   "outputs": [],
   "source": [
    "stylish_settee_price = 180.50"
   ]
  },
  {
   "cell_type": "code",
   "execution_count": 5,
   "id": "51a4e657-320b-41a0-a7c3-49b656f4a9f0",
   "metadata": {},
   "outputs": [],
   "source": [
    "luxurious_lamp_description = \"Luxurious Lamp. Glass and iron. 36 inches tall. Brown with cream shade.\""
   ]
  },
  {
   "cell_type": "code",
   "execution_count": 6,
   "id": "a15c48e1-1a06-4bbd-8b8a-68983d729198",
   "metadata": {},
   "outputs": [],
   "source": [
    "luxurious_lamp_price = 52.15"
   ]
  },
  {
   "cell_type": "code",
   "execution_count": 7,
   "id": "a872a7b0-ed56-4ed6-b5c0-e2e27ad7ac45",
   "metadata": {},
   "outputs": [],
   "source": [
    "sales_tax = 0.088"
   ]
  },
  {
   "cell_type": "code",
   "execution_count": 8,
   "id": "bff84dcd-f84a-45bc-8f95-90125f506402",
   "metadata": {},
   "outputs": [],
   "source": [
    "customer_one_total = 0"
   ]
  },
  {
   "cell_type": "code",
   "execution_count": 9,
   "id": "d3fbc799-53ff-4d86-8bda-56a5c25efaa4",
   "metadata": {},
   "outputs": [],
   "source": [
    "customer_one_itemization = \"\""
   ]
  },
  {
   "cell_type": "code",
   "execution_count": 10,
   "id": "5a5b0803-3afd-40a8-a09a-f687c5d67414",
   "metadata": {},
   "outputs": [],
   "source": [
    "customer_one_total += lovely_loveseat_price"
   ]
  },
  {
   "cell_type": "code",
   "execution_count": 11,
   "id": "345e08be-c25a-43f4-b7fb-7af1617f7df8",
   "metadata": {},
   "outputs": [],
   "source": [
    "customer_one_itemization += lovely_loveseat_description"
   ]
  },
  {
   "cell_type": "code",
   "execution_count": 12,
   "id": "a78df674-e853-4554-81dd-544487efdd9c",
   "metadata": {},
   "outputs": [],
   "source": [
    "customer_one_total += luxurious_lamp_price"
   ]
  },
  {
   "cell_type": "code",
   "execution_count": 13,
   "id": "73f861f1-ec98-44ff-9a81-6d0b84eb2389",
   "metadata": {},
   "outputs": [],
   "source": [
    "customer_one_itemization += luxurious_lamp_description"
   ]
  },
  {
   "cell_type": "code",
   "execution_count": 14,
   "id": "aa698d52-7520-4e0e-96dd-27df49612fab",
   "metadata": {},
   "outputs": [],
   "source": [
    "customer_one_tax = customer_one_total*sales_tax"
   ]
  },
  {
   "cell_type": "code",
   "execution_count": 15,
   "id": "0fca4dce-3509-4770-bf83-b4e69736bd1d",
   "metadata": {},
   "outputs": [],
   "source": [
    "customer_one_total += customer_one_tax"
   ]
  },
  {
   "cell_type": "code",
   "execution_count": 16,
   "id": "0cf162ed-450c-4461-926a-8e289d97b3be",
   "metadata": {},
   "outputs": [
    {
     "name": "stdout",
     "output_type": "stream",
     "text": [
      "Customer One Items:\n"
     ]
    }
   ],
   "source": [
    "print(\"Customer One Items:\") "
   ]
  },
  {
   "cell_type": "code",
   "execution_count": 17,
   "id": "992db9ba-39df-4240-8bbb-2c36b829c485",
   "metadata": {},
   "outputs": [
    {
     "name": "stdout",
     "output_type": "stream",
     "text": [
      "Lovely Loveseat. Tufted polyester blend on wood. 32 inches high x 40 inches wide x 30 inches deep. Red or white.Luxurious Lamp. Glass and iron. 36 inches tall. Brown with cream shade.\n"
     ]
    }
   ],
   "source": [
    "print(customer_one_itemization)"
   ]
  },
  {
   "cell_type": "code",
   "execution_count": 18,
   "id": "1019849c-260e-4035-aae5-a42a983933d6",
   "metadata": {},
   "outputs": [
    {
     "name": "stdout",
     "output_type": "stream",
     "text": [
      "Customer One Total:\n"
     ]
    }
   ],
   "source": [
    "print(\"Customer One Total:\")"
   ]
  },
  {
   "cell_type": "code",
   "execution_count": 19,
   "id": "690d10db-49e5-4d4c-b5c0-532349a365b4",
   "metadata": {},
   "outputs": [
    {
     "name": "stdout",
     "output_type": "stream",
     "text": [
      "333.09119999999996\n"
     ]
    }
   ],
   "source": [
    "print(customer_one_total)"
   ]
  }
 ],
 "metadata": {
  "kernelspec": {
   "display_name": "Python 3 (ipykernel)",
   "language": "python",
   "name": "python3"
  },
  "language_info": {
   "codemirror_mode": {
    "name": "ipython",
    "version": 3
   },
   "file_extension": ".py",
   "mimetype": "text/x-python",
   "name": "python",
   "nbconvert_exporter": "python",
   "pygments_lexer": "ipython3",
   "version": "3.12.4"
  }
 },
 "nbformat": 4,
 "nbformat_minor": 5
}
