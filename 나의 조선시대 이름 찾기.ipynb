{
 "cells": [
  {
   "cell_type": "code",
   "execution_count": 37,
   "id": "2dd36c30-5fdc-4324-b052-de1ea1cdf69a",
   "metadata": {},
   "outputs": [],
   "source": [
    "def get_my_chosun_name(family_name, first_nb, second_nb):\n",
    "    month = ['쌍', '쇠', '복', '돌', '팽', '육', '쌍', '개', '칠', '갑', '삼', '방']\n",
    "    day = ['봉', '구', '욕', '포', '똥', '삼', '식', '석', '놈', '님', '년', '돌', '단', '득', '방', '질', '장', '걸', '래', '룡', '동', '순', '자', '박', '창', '언', '것', '포', '만', '단', '국']\n",
    "\n",
    "    \n",
    "    first_name = month[first_nb - 1]\n",
    "    second_name = day[second_nb - 1]\n",
    "\n",
    "    full_name = family_name + \" \" + first_name + \" \" + second_name\n",
    "\n",
    "    return full_name"
   ]
  },
  {
   "cell_type": "code",
   "execution_count": 39,
   "id": "7685c510-1dfc-4690-997b-dc3a99a928d7",
   "metadata": {},
   "outputs": [
    {
     "name": "stdout",
     "output_type": "stream",
     "text": [
      "엄 육 포\n"
     ]
    }
   ],
   "source": [
    "print(get_my_chosun_name('엄',6,28))"
   ]
  },
  {
   "cell_type": "code",
   "execution_count": null,
   "id": "d59a67b6-7eb9-4fb0-9cb2-bf94bc423045",
   "metadata": {},
   "outputs": [],
   "source": []
  }
 ],
 "metadata": {
  "kernelspec": {
   "display_name": "Python 3 (ipykernel)",
   "language": "python",
   "name": "python3"
  },
  "language_info": {
   "codemirror_mode": {
    "name": "ipython",
    "version": 3
   },
   "file_extension": ".py",
   "mimetype": "text/x-python",
   "name": "python",
   "nbconvert_exporter": "python",
   "pygments_lexer": "ipython3",
   "version": "3.12.4"
  }
 },
 "nbformat": 4,
 "nbformat_minor": 5
}
