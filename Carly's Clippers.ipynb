{
 "cells": [
  {
   "cell_type": "code",
   "execution_count": 334,
   "id": "3a416e89-5789-4cd7-be67-8bf18a684884",
   "metadata": {},
   "outputs": [],
   "source": [
    "hairstyles = [\"bouffant\", \"pixie\", \"dreadlocks\", \"crew\", \"bowl\", \"bob\", \"mohawk\", \"flattop\"]"
   ]
  },
  {
   "cell_type": "code",
   "execution_count": 336,
   "id": "3f23989a-0b07-4aba-8f62-b3cc1baabf1f",
   "metadata": {},
   "outputs": [],
   "source": [
    "prices = [30, 25, 40, 20, 20, 35, 50, 35]"
   ]
  },
  {
   "cell_type": "code",
   "execution_count": 338,
   "id": "5a6bba90-f7a2-427a-9ed9-4d1043b2c981",
   "metadata": {},
   "outputs": [],
   "source": [
    "last_week = [2, 3, 5, 8, 4, 4, 6, 2]"
   ]
  },
  {
   "cell_type": "code",
   "execution_count": 340,
   "id": "ef0472f5-73f4-4335-893c-1766025b2e4e",
   "metadata": {},
   "outputs": [],
   "source": [
    "total_price = 0"
   ]
  },
  {
   "cell_type": "code",
   "execution_count": 342,
   "id": "979e9d39-ab00-4c7e-ba0d-57f18a17d1a9",
   "metadata": {},
   "outputs": [],
   "source": [
    "for price in prices:\n",
    "    total_price += price"
   ]
  },
  {
   "cell_type": "code",
   "execution_count": 344,
   "id": "30bdf0b6-980a-48ff-8554-98a783ec65a5",
   "metadata": {},
   "outputs": [
    {
     "data": {
      "text/plain": [
       "255"
      ]
     },
     "execution_count": 344,
     "metadata": {},
     "output_type": "execute_result"
    }
   ],
   "source": [
    "total_price"
   ]
  },
  {
   "cell_type": "code",
   "execution_count": 346,
   "id": "caa5556c-b8b1-4d42-b3b1-389b5baae87b",
   "metadata": {},
   "outputs": [],
   "source": [
    "average_price = total_price / len(prices)"
   ]
  },
  {
   "cell_type": "code",
   "execution_count": 348,
   "id": "d9c7f0b8-21de-4df7-ab02-2d1febdc198c",
   "metadata": {},
   "outputs": [
    {
     "data": {
      "text/plain": [
       "31.875"
      ]
     },
     "execution_count": 348,
     "metadata": {},
     "output_type": "execute_result"
    }
   ],
   "source": [
    "average_price "
   ]
  },
  {
   "cell_type": "code",
   "execution_count": 350,
   "id": "eded0fef-4118-43a8-9c50-e8c5886cd267",
   "metadata": {},
   "outputs": [],
   "source": [
    "new_prices = [price - 5 for price in prices]"
   ]
  },
  {
   "cell_type": "code",
   "execution_count": 352,
   "id": "0aa5de41-13e2-41fb-b7ab-07d3c65451a5",
   "metadata": {},
   "outputs": [
    {
     "data": {
      "text/plain": [
       "[25, 20, 35, 15, 15, 30, 45, 30]"
      ]
     },
     "execution_count": 352,
     "metadata": {},
     "output_type": "execute_result"
    }
   ],
   "source": [
    "new_prices"
   ]
  },
  {
   "cell_type": "code",
   "execution_count": 354,
   "id": "fb448140-0257-42be-a6f2-41a7dcf95725",
   "metadata": {},
   "outputs": [],
   "source": [
    "total_revenue = 0"
   ]
  },
  {
   "cell_type": "code",
   "execution_count": 356,
   "id": "6835765d-8bff-40de-8edd-82999e86f36a",
   "metadata": {},
   "outputs": [],
   "source": [
    "for i in range(len(hairstyles)):\n",
    "    total_revenue += prices[i] * last_week[i]"
   ]
  },
  {
   "cell_type": "code",
   "execution_count": 360,
   "id": "a9e01c4d-5219-4528-a5f7-d465fadf2954",
   "metadata": {},
   "outputs": [
    {
     "name": "stdout",
     "output_type": "stream",
     "text": [
      "1085\n"
     ]
    }
   ],
   "source": [
    "print(total_revenue)"
   ]
  },
  {
   "cell_type": "code",
   "execution_count": 362,
   "id": "9f41bd27-6d87-4288-9345-2bc699adb3fe",
   "metadata": {},
   "outputs": [],
   "source": [
    "average_daily_revenue = total_revenue/7"
   ]
  },
  {
   "cell_type": "code",
   "execution_count": 364,
   "id": "4a7f2933-7c2d-4d70-87f9-43dc606529ed",
   "metadata": {},
   "outputs": [
    {
     "data": {
      "text/plain": [
       "155.0"
      ]
     },
     "execution_count": 364,
     "metadata": {},
     "output_type": "execute_result"
    }
   ],
   "source": [
    "average_daily_revenue"
   ]
  },
  {
   "cell_type": "code",
   "execution_count": 366,
   "id": "91c1e196-48e0-4445-9fd3-057f94eefd65",
   "metadata": {},
   "outputs": [],
   "source": [
    "cuts_under_30 = [hairstyles[i] for i in range(len(new_prices)) if new_prices[i] < 30]"
   ]
  },
  {
   "cell_type": "code",
   "execution_count": 368,
   "id": "b4c41c94-cb39-49d4-a1f9-f6391f4ed60b",
   "metadata": {},
   "outputs": [
    {
     "data": {
      "text/plain": [
       "['bouffant', 'pixie', 'crew', 'bowl']"
      ]
     },
     "execution_count": 368,
     "metadata": {},
     "output_type": "execute_result"
    }
   ],
   "source": [
    "cuts_under_30"
   ]
  },
  {
   "cell_type": "code",
   "execution_count": null,
   "id": "0cfde552-0bfd-4cd7-b27a-2394cd794e77",
   "metadata": {},
   "outputs": [],
   "source": []
  },
  {
   "cell_type": "code",
   "execution_count": null,
   "id": "3d51c1fa-acb0-4e07-8fcd-2721f6aab9af",
   "metadata": {},
   "outputs": [],
   "source": []
  },
  {
   "cell_type": "code",
   "execution_count": null,
   "id": "d324a2c3-ec87-423a-8874-1d0202d6ff08",
   "metadata": {},
   "outputs": [],
   "source": []
  },
  {
   "cell_type": "code",
   "execution_count": null,
   "id": "9aafefe2-4ee6-4357-84cd-045277683838",
   "metadata": {},
   "outputs": [],
   "source": []
  }
 ],
 "metadata": {
  "kernelspec": {
   "display_name": "Python 3 (ipykernel)",
   "language": "python",
   "name": "python3"
  },
  "language_info": {
   "codemirror_mode": {
    "name": "ipython",
    "version": 3
   },
   "file_extension": ".py",
   "mimetype": "text/x-python",
   "name": "python",
   "nbconvert_exporter": "python",
   "pygments_lexer": "ipython3",
   "version": "3.12.4"
  }
 },
 "nbformat": 4,
 "nbformat_minor": 5
}
